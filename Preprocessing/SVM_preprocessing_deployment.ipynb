{
 "cells": [
  {
   "cell_type": "code",
   "execution_count": 31,
   "id": "8df6637b",
   "metadata": {},
   "outputs": [],
   "source": [
    "import pickle\n",
    "import joblib\n",
    "input_scalar = joblib.load(\"input_scalar.save\")\n",
    "output_scalar = joblib.load(\"output_scalar.save\")"
   ]
  },
  {
   "cell_type": "code",
   "execution_count": 32,
   "id": "27948e00",
   "metadata": {},
   "outputs": [],
   "source": [
    "load_model = pickle.load(open('LinearRegression.sav','rb'))"
   ]
  },
  {
   "cell_type": "code",
   "execution_count": 33,
   "id": "f6490f27",
   "metadata": {},
   "outputs": [
    {
     "name": "stderr",
     "output_type": "stream",
     "text": [
      "C:\\Users\\rajes\\anaconda3\\lib\\site-packages\\sklearn\\base.py:450: UserWarning: X does not have valid feature names, but StandardScaler was fitted with feature names\n",
      "  warnings.warn(\n"
     ]
    }
   ],
   "source": [
    "\n",
    "input = [[19,27.900,0,0,1]]\n",
    "preinput = input_scalar.transform(input)\n",
    "result = load_model.predict(preinput)"
   ]
  },
  {
   "cell_type": "code",
   "execution_count": 34,
   "id": "d34ccb90",
   "metadata": {},
   "outputs": [
    {
     "data": {
      "text/plain": [
       "array([0.78133188])"
      ]
     },
     "execution_count": 34,
     "metadata": {},
     "output_type": "execute_result"
    }
   ],
   "source": [
    "result"
   ]
  },
  {
   "cell_type": "code",
   "execution_count": 35,
   "id": "2467c490",
   "metadata": {},
   "outputs": [],
   "source": [
    "preoutput = output_scalar.inverse_transform([result])"
   ]
  },
  {
   "cell_type": "code",
   "execution_count": 36,
   "id": "0676699d",
   "metadata": {},
   "outputs": [
    {
     "data": {
      "text/plain": [
       "array([[22510.26554735]])"
      ]
     },
     "execution_count": 36,
     "metadata": {},
     "output_type": "execute_result"
    }
   ],
   "source": [
    "preoutput"
   ]
  },
  {
   "cell_type": "code",
   "execution_count": null,
   "id": "31b6ea81",
   "metadata": {},
   "outputs": [],
   "source": []
  }
 ],
 "metadata": {
  "kernelspec": {
   "display_name": "Python 3 (ipykernel)",
   "language": "python",
   "name": "python3"
  },
  "language_info": {
   "codemirror_mode": {
    "name": "ipython",
    "version": 3
   },
   "file_extension": ".py",
   "mimetype": "text/x-python",
   "name": "python",
   "nbconvert_exporter": "python",
   "pygments_lexer": "ipython3",
   "version": "3.9.12"
  }
 },
 "nbformat": 4,
 "nbformat_minor": 5
}
